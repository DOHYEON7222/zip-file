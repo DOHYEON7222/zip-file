{
 "cells": [
  {
   "cell_type": "code",
   "execution_count": 23,
   "id": "2a8a7638-c672-44f1-acc4-7be42e014550",
   "metadata": {},
   "outputs": [],
   "source": [
    "import os\n",
    "import sys"
   ]
  },
  {
   "cell_type": "code",
   "execution_count": 24,
   "id": "48dadaea-1c3a-4272-987d-17acc4eb30de",
   "metadata": {},
   "outputs": [],
   "source": [
    "f = open('price.txt', 'w')\n",
    "f.close()\n",
    "p = open('item.txt', 'w')\n",
    "p.close()"
   ]
  },
  {
   "cell_type": "code",
   "execution_count": 30,
   "id": "b97f62ab-236b-4018-aa48-99030959de7a",
   "metadata": {},
   "outputs": [],
   "source": [
    "f = open('price.txt', 'r')\n",
    "price_list = f.readlines()\n",
    "price_list = [int(i.strip()) for i in price_list]\n",
    "f.close()\n",
    "price_money = 1000 - sum(price_list)\n",
    "\n",
    "p = open('item.txt', 'r')\n",
    "item_list = p.readlines()\n",
    "item_list = [i.strip() for i in item_list]\n",
    "p.close()"
   ]
  },
  {
   "cell_type": "code",
   "execution_count": 27,
   "id": "d5d42160-81f5-4e16-bd0a-ab8e37894295",
   "metadata": {},
   "outputs": [],
   "source": [
    "n = len(sys.argv)\n",
    "choice = sys.argv[1]"
   ]
  },
  {
   "cell_type": "code",
   "execution_count": 28,
   "id": "5a767813-03fb-400e-b043-4e71f03e64fd",
   "metadata": {},
   "outputs": [],
   "source": [
    "def print_price(item_list, price_list):\n",
    "    money = 1000\n",
    "    for item, price in zip(item_list, price_list):\n",
    "        money = money - price\n",
    "        print('%s %d %d' %(item, price, money))\n",
    "    print(' ')"
   ]
  },
  {
   "cell_type": "code",
   "execution_count": 33,
   "id": "f4c49f23-98a3-4035-afca-bcffa996bd2e",
   "metadata": {},
   "outputs": [],
   "source": [
    "def file_write(item_list, price_list):\n",
    "    p = open('item.txt', 'w')\n",
    "    f = open('price.txt', 'w')\n",
    "    for item, price in zip(item_list, price_list):\n",
    "        p.write(str(item) + '\\n')\n",
    "        f.write(str(price) + '\\n')\n",
    "    p.close()\n",
    "    f.close()"
   ]
  },
  {
   "cell_type": "code",
   "execution_count": 32,
   "id": "d3fb23fa-0e7c-4e77-b562-f027ef68de7b",
   "metadata": {},
   "outputs": [
    {
     "name": "stdout",
     "output_type": "stream",
     "text": [
      "wrong input\n"
     ]
    },
    {
     "ename": "SystemExit",
     "evalue": "",
     "output_type": "error",
     "traceback": [
      "An exception has occurred, use %tb to see the full traceback.\n",
      "\u001b[1;31mSystemExit\u001b[0m\n"
     ]
    }
   ],
   "source": [
    "if choice =='w':\n",
    "    print('You have %d now' % price_money)\n",
    "    \n",
    "    while True:\n",
    "        item = input('what?: ')\n",
    "        price = int(input('how much?'))\n",
    "        price_money = price_money - price\n",
    "        print('you have %d now' % price_money)\n",
    "        \n",
    "        item_list.append(item)\n",
    "        price_list.append(price)\n",
    "        \n",
    "        out = input('is it finished? (y / n)')\n",
    "        \n",
    "        if out == 'y':\n",
    "            file_write(item_list, price_list)\n",
    "            break\n",
    "            \n",
    "elif choice == 'x':\n",
    "    print('you have %d now' % price_money)\n",
    "    print_price(item_list, price_list)\n",
    "    \n",
    "    item = input('what?: ')\n",
    "\n",
    "    index = item_list.index(item)\n",
    "    price = price_list[index]\n",
    "    \n",
    "    price_money += price\n",
    "    del item_list[index]\n",
    "    del price_list[index]\n",
    "    \n",
    "    print_price(item_list, price_list)\n",
    "    file_write(item_list, price_list)\n",
    "    \n",
    "elif choice == 'r':\n",
    "    print_price(item_list, price_list)\n",
    "\n",
    "else:\n",
    "    print('wrong input')\n",
    "    sys.exit()"
   ]
  },
  {
   "cell_type": "code",
   "execution_count": null,
   "id": "27c43d80-f6e0-4c05-99e9-d5e1c36dc52f",
   "metadata": {},
   "outputs": [],
   "source": []
  },
  {
   "cell_type": "code",
   "execution_count": null,
   "id": "102be4ce-6fc3-421c-892c-a3d460c643e7",
   "metadata": {},
   "outputs": [],
   "source": []
  },
  {
   "cell_type": "code",
   "execution_count": null,
   "id": "50e09294-f36c-438b-8ce7-91b22feea43b",
   "metadata": {},
   "outputs": [],
   "source": []
  }
 ],
 "metadata": {
  "kernelspec": {
   "display_name": "Python 3",
   "language": "python",
   "name": "python3"
  },
  "language_info": {
   "codemirror_mode": {
    "name": "ipython",
    "version": 3
   },
   "file_extension": ".py",
   "mimetype": "text/x-python",
   "name": "python",
   "nbconvert_exporter": "python",
   "pygments_lexer": "ipython3",
   "version": "3.8.8"
  }
 },
 "nbformat": 4,
 "nbformat_minor": 5
}
